{
 "cells": [
  {
   "cell_type": "code",
   "execution_count": 81,
   "id": "28f96ffd-897e-47fc-a31e-2abd8f4eab0a",
   "metadata": {},
   "outputs": [],
   "source": [
    "import pandas as pd"
   ]
  },
  {
   "cell_type": "code",
   "execution_count": 82,
   "id": "90e83754-fc31-4ac0-91ac-98d145711a30",
   "metadata": {},
   "outputs": [],
   "source": [
    "path='Mid_Sem_Marks (1).xlsx'"
   ]
  },
  {
   "cell_type": "code",
   "execution_count": 83,
   "id": "b7f608cc-615d-40fe-ab79-5cff0f9a1026",
   "metadata": {},
   "outputs": [],
   "source": [
    "df1=pd.read_excel(path,'Table 1',index_col=None,header=None)\n",
    "df2=pd.read_excel(path,'Table 2',index_col=None,header=None)\n",
    "df3=pd.read_excel(path,'Table 3',index_col=None,header=None)"
   ]
  },
  {
   "cell_type": "code",
   "execution_count": 84,
   "id": "55ed55ae-b057-455c-b31f-cc13292be7f3",
   "metadata": {},
   "outputs": [
    {
     "data": {
      "text/html": [
       "<div>\n",
       "<style scoped>\n",
       "    .dataframe tbody tr th:only-of-type {\n",
       "        vertical-align: middle;\n",
       "    }\n",
       "\n",
       "    .dataframe tbody tr th {\n",
       "        vertical-align: top;\n",
       "    }\n",
       "\n",
       "    .dataframe thead th {\n",
       "        text-align: right;\n",
       "    }\n",
       "</style>\n",
       "<table border=\"1\" class=\"dataframe\">\n",
       "  <thead>\n",
       "    <tr style=\"text-align: right;\">\n",
       "      <th></th>\n",
       "      <th>0</th>\n",
       "      <th>1</th>\n",
       "    </tr>\n",
       "  </thead>\n",
       "  <tbody>\n",
       "    <tr>\n",
       "      <th>0</th>\n",
       "      <td>21CH10054</td>\n",
       "      <td>17.5</td>\n",
       "    </tr>\n",
       "    <tr>\n",
       "      <th>1</th>\n",
       "      <td>21CH10055</td>\n",
       "      <td>8</td>\n",
       "    </tr>\n",
       "    <tr>\n",
       "      <th>2</th>\n",
       "      <td>21CH10056</td>\n",
       "      <td>16.5</td>\n",
       "    </tr>\n",
       "    <tr>\n",
       "      <th>3</th>\n",
       "      <td>21CH10057</td>\n",
       "      <td>22.5</td>\n",
       "    </tr>\n",
       "    <tr>\n",
       "      <th>4</th>\n",
       "      <td>21CH10058</td>\n",
       "      <td>20</td>\n",
       "    </tr>\n",
       "  </tbody>\n",
       "</table>\n",
       "</div>"
      ],
      "text/plain": [
       "           0     1\n",
       "0  21CH10054  17.5\n",
       "1  21CH10055     8\n",
       "2  21CH10056  16.5\n",
       "3  21CH10057  22.5\n",
       "4  21CH10058    20"
      ]
     },
     "execution_count": 84,
     "metadata": {},
     "output_type": "execute_result"
    }
   ],
   "source": [
    "df1.head()"
   ]
  },
  {
   "cell_type": "code",
   "execution_count": 85,
   "id": "9cdac574-d5d2-415a-8df4-6ed860b07934",
   "metadata": {},
   "outputs": [],
   "source": [
    "df=[df3,df2,df1]\n",
    "df=pd.concat(df)"
   ]
  },
  {
   "cell_type": "code",
   "execution_count": 86,
   "id": "4875d013-2206-4b61-b332-70ae3ffb6c09",
   "metadata": {},
   "outputs": [
    {
     "data": {
      "text/html": [
       "<div>\n",
       "<style scoped>\n",
       "    .dataframe tbody tr th:only-of-type {\n",
       "        vertical-align: middle;\n",
       "    }\n",
       "\n",
       "    .dataframe tbody tr th {\n",
       "        vertical-align: top;\n",
       "    }\n",
       "\n",
       "    .dataframe thead th {\n",
       "        text-align: right;\n",
       "    }\n",
       "</style>\n",
       "<table border=\"1\" class=\"dataframe\">\n",
       "  <thead>\n",
       "    <tr style=\"text-align: right;\">\n",
       "      <th></th>\n",
       "      <th>0</th>\n",
       "      <th>1</th>\n",
       "    </tr>\n",
       "  </thead>\n",
       "  <tbody>\n",
       "    <tr>\n",
       "      <th>0</th>\n",
       "      <td>Roll No.</td>\n",
       "      <td>Mid-Sem (30)</td>\n",
       "    </tr>\n",
       "    <tr>\n",
       "      <th>1</th>\n",
       "      <td>21AG30014</td>\n",
       "      <td>10.5</td>\n",
       "    </tr>\n",
       "    <tr>\n",
       "      <th>2</th>\n",
       "      <td>21CH10001</td>\n",
       "      <td>24.5</td>\n",
       "    </tr>\n",
       "    <tr>\n",
       "      <th>3</th>\n",
       "      <td>21CH10002</td>\n",
       "      <td>18.5</td>\n",
       "    </tr>\n",
       "    <tr>\n",
       "      <th>4</th>\n",
       "      <td>21CH10003</td>\n",
       "      <td>21.5</td>\n",
       "    </tr>\n",
       "  </tbody>\n",
       "</table>\n",
       "</div>"
      ],
      "text/plain": [
       "           0             1\n",
       "0   Roll No.  Mid-Sem (30)\n",
       "1  21AG30014          10.5\n",
       "2  21CH10001          24.5\n",
       "3  21CH10002          18.5\n",
       "4  21CH10003          21.5"
      ]
     },
     "execution_count": 86,
     "metadata": {},
     "output_type": "execute_result"
    }
   ],
   "source": [
    "df.head()"
   ]
  },
  {
   "cell_type": "code",
   "execution_count": 87,
   "id": "3172b2ed-4b20-46fe-ba28-2f49455cd7f2",
   "metadata": {},
   "outputs": [],
   "source": [
    "df.drop(index=0,axis=0,inplace=True)\n",
    "df_roll=df[0]"
   ]
  },
  {
   "cell_type": "code",
   "execution_count": 119,
   "id": "d2063205-19e1-4f9a-9a0f-46bf440bb596",
   "metadata": {},
   "outputs": [
    {
     "data": {
      "text/plain": [
       "(127,)"
      ]
     },
     "execution_count": 119,
     "metadata": {},
     "output_type": "execute_result"
    }
   ],
   "source": [
    "df_roll.shape"
   ]
  },
  {
   "cell_type": "code",
   "execution_count": 118,
   "id": "2605fd9d-1417-4d9c-84ef-5f09f24b7bf1",
   "metadata": {},
   "outputs": [
    {
     "data": {
      "text/plain": [
       "(127, 2)"
      ]
     },
     "execution_count": 118,
     "metadata": {},
     "output_type": "execute_result"
    }
   ],
   "source": [
    "df.shape"
   ]
  },
  {
   "cell_type": "code",
   "execution_count": 90,
   "id": "de6ea6dd-dda8-42dd-920e-a95c82cc235c",
   "metadata": {},
   "outputs": [],
   "source": [
    "for i in df[1]:\n",
    "    if(i=='ABSENT'):\n",
    "        df[1].replace(to_replace='ABSENT',value='0',inplace=True)\n",
    "        \n",
    "    \n",
    "        \n",
    "        "
   ]
  },
  {
   "cell_type": "code",
   "execution_count": 91,
   "id": "be61c593-ee8b-4c86-9c30-ac2870ba4c83",
   "metadata": {},
   "outputs": [],
   "source": [
    "df_marks=df[1]"
   ]
  },
  {
   "cell_type": "code",
   "execution_count": 92,
   "id": "c490c41b-4bdf-4431-8b3a-94410d05d46d",
   "metadata": {},
   "outputs": [
    {
     "data": {
      "text/plain": [
       "1    10.5\n",
       "2    24.5\n",
       "3    18.5\n",
       "4    21.5\n",
       "5    10.0\n",
       "Name: 1, dtype: float64"
      ]
     },
     "execution_count": 92,
     "metadata": {},
     "output_type": "execute_result"
    }
   ],
   "source": [
    "df_marks=df_marks.astype(float)\n",
    "df_marks.head()"
   ]
  },
  {
   "cell_type": "code",
   "execution_count": 134,
   "id": "ffb96da7-07d2-43a9-8197-dc864056dfda",
   "metadata": {},
   "outputs": [],
   "source": [
    "path2='END_SEM_MARKS2.xlsx'"
   ]
  },
  {
   "cell_type": "code",
   "execution_count": 140,
   "id": "9101617d-f0b7-4931-9bee-8ab64afc237e",
   "metadata": {},
   "outputs": [],
   "source": [
    "end_df=pd.read_excel(path2,index_col=None,header=None)\n",
    "##end_df2=pd.read_excel(path2,'Table 1',index_col=None,header=None)"
   ]
  },
  {
   "cell_type": "code",
   "execution_count": 141,
   "id": "2d1b7112-8dba-4f43-9844-e0dbd56d158d",
   "metadata": {},
   "outputs": [
    {
     "data": {
      "text/html": [
       "<div>\n",
       "<style scoped>\n",
       "    .dataframe tbody tr th:only-of-type {\n",
       "        vertical-align: middle;\n",
       "    }\n",
       "\n",
       "    .dataframe tbody tr th {\n",
       "        vertical-align: top;\n",
       "    }\n",
       "\n",
       "    .dataframe thead th {\n",
       "        text-align: right;\n",
       "    }\n",
       "</style>\n",
       "<table border=\"1\" class=\"dataframe\">\n",
       "  <thead>\n",
       "    <tr style=\"text-align: right;\">\n",
       "      <th></th>\n",
       "      <th>0</th>\n",
       "      <th>1</th>\n",
       "    </tr>\n",
       "  </thead>\n",
       "  <tbody>\n",
       "    <tr>\n",
       "      <th>0</th>\n",
       "      <td>21AG30014</td>\n",
       "      <td>13.0</td>\n",
       "    </tr>\n",
       "    <tr>\n",
       "      <th>1</th>\n",
       "      <td>21CH10001</td>\n",
       "      <td>25.0</td>\n",
       "    </tr>\n",
       "    <tr>\n",
       "      <th>2</th>\n",
       "      <td>21CH10002</td>\n",
       "      <td>23.0</td>\n",
       "    </tr>\n",
       "    <tr>\n",
       "      <th>3</th>\n",
       "      <td>21CH10003</td>\n",
       "      <td>28.0</td>\n",
       "    </tr>\n",
       "    <tr>\n",
       "      <th>4</th>\n",
       "      <td>21CH10004</td>\n",
       "      <td>20.0</td>\n",
       "    </tr>\n",
       "  </tbody>\n",
       "</table>\n",
       "</div>"
      ],
      "text/plain": [
       "           0     1\n",
       "0  21AG30014  13.0\n",
       "1  21CH10001  25.0\n",
       "2  21CH10002  23.0\n",
       "3  21CH10003  28.0\n",
       "4  21CH10004  20.0"
      ]
     },
     "execution_count": 141,
     "metadata": {},
     "output_type": "execute_result"
    }
   ],
   "source": [
    "end_df.head()"
   ]
  },
  {
   "cell_type": "code",
   "execution_count": 146,
   "id": "6f0691c5-b46b-427b-82c2-a44ccd3cd6c9",
   "metadata": {},
   "outputs": [],
   "source": [
    "end_roll=end_df[0]"
   ]
  },
  {
   "cell_type": "code",
   "execution_count": 150,
   "id": "f1ac2423-09d8-4de5-bc76-faea6222a12a",
   "metadata": {},
   "outputs": [],
   "source": [
    "end_marks=end_df[1].astype(float)\n"
   ]
  },
  {
   "cell_type": "code",
   "execution_count": 151,
   "id": "f2b71ee1-3d5c-4ebf-9292-c540ab15502a",
   "metadata": {},
   "outputs": [
    {
     "data": {
      "text/plain": [
       "(129, 2)"
      ]
     },
     "execution_count": 151,
     "metadata": {},
     "output_type": "execute_result"
    }
   ],
   "source": [
    "end_df.shape"
   ]
  },
  {
   "cell_type": "code",
   "execution_count": 157,
   "id": "a3d3d665-4bfb-40bf-bf71-994e2cc1d5f2",
   "metadata": {},
   "outputs": [],
   "source": [
    "df_roll=list(df_roll)\n",
    "df_marks=list(df_marks)"
   ]
  },
  {
   "cell_type": "code",
   "execution_count": 158,
   "id": "e39f72de-f139-4870-9958-538412646cb2",
   "metadata": {},
   "outputs": [
    {
     "data": {
      "text/plain": [
       "list"
      ]
     },
     "execution_count": 158,
     "metadata": {},
     "output_type": "execute_result"
    }
   ],
   "source": [
    "type(df_roll)"
   ]
  },
  {
   "cell_type": "code",
   "execution_count": 159,
   "id": "8bc5b0ab-0264-454e-ab0e-3382406bbf38",
   "metadata": {},
   "outputs": [],
   "source": [
    "midsem_data={'Roll':df_roll,'Marks':df_marks}"
   ]
  },
  {
   "cell_type": "code",
   "execution_count": 160,
   "id": "215b7fc7-d2b9-4157-a39d-bcedb5bb2881",
   "metadata": {},
   "outputs": [],
   "source": [
    "midsem_df=pd.DataFrame(midsem_data)"
   ]
  },
  {
   "cell_type": "code",
   "execution_count": 161,
   "id": "ebeb1ab6-0961-48b1-9a77-5066a810c7eb",
   "metadata": {},
   "outputs": [
    {
     "data": {
      "text/html": [
       "<div>\n",
       "<style scoped>\n",
       "    .dataframe tbody tr th:only-of-type {\n",
       "        vertical-align: middle;\n",
       "    }\n",
       "\n",
       "    .dataframe tbody tr th {\n",
       "        vertical-align: top;\n",
       "    }\n",
       "\n",
       "    .dataframe thead th {\n",
       "        text-align: right;\n",
       "    }\n",
       "</style>\n",
       "<table border=\"1\" class=\"dataframe\">\n",
       "  <thead>\n",
       "    <tr style=\"text-align: right;\">\n",
       "      <th></th>\n",
       "      <th>Roll</th>\n",
       "      <th>Marks</th>\n",
       "    </tr>\n",
       "  </thead>\n",
       "  <tbody>\n",
       "    <tr>\n",
       "      <th>0</th>\n",
       "      <td>21AG30014</td>\n",
       "      <td>10.5</td>\n",
       "    </tr>\n",
       "    <tr>\n",
       "      <th>1</th>\n",
       "      <td>21CH10001</td>\n",
       "      <td>24.5</td>\n",
       "    </tr>\n",
       "    <tr>\n",
       "      <th>2</th>\n",
       "      <td>21CH10002</td>\n",
       "      <td>18.5</td>\n",
       "    </tr>\n",
       "    <tr>\n",
       "      <th>3</th>\n",
       "      <td>21CH10003</td>\n",
       "      <td>21.5</td>\n",
       "    </tr>\n",
       "    <tr>\n",
       "      <th>4</th>\n",
       "      <td>21CH10004</td>\n",
       "      <td>10.0</td>\n",
       "    </tr>\n",
       "  </tbody>\n",
       "</table>\n",
       "</div>"
      ],
      "text/plain": [
       "        Roll  Marks\n",
       "0  21AG30014   10.5\n",
       "1  21CH10001   24.5\n",
       "2  21CH10002   18.5\n",
       "3  21CH10003   21.5\n",
       "4  21CH10004   10.0"
      ]
     },
     "execution_count": 161,
     "metadata": {},
     "output_type": "execute_result"
    }
   ],
   "source": [
    "midsem_df.head()"
   ]
  },
  {
   "cell_type": "code",
   "execution_count": 162,
   "id": "51694aad-4a6f-409e-8512-143369a3d791",
   "metadata": {},
   "outputs": [],
   "source": [
    "end_roll=list(end_roll)\n",
    "end_marks=list(end_marks)"
   ]
  },
  {
   "cell_type": "code",
   "execution_count": 163,
   "id": "910bdf94-9b59-40b1-961a-a77394607c52",
   "metadata": {},
   "outputs": [],
   "source": [
    "endsem_data={\"Roll\":end_roll,\"Marks\":end_marks}"
   ]
  },
  {
   "cell_type": "code",
   "execution_count": 164,
   "id": "f9726118-d6ed-46c6-a34c-d7f758a60487",
   "metadata": {},
   "outputs": [],
   "source": [
    "endsem_df=pd.DataFrame(endsem_data)"
   ]
  },
  {
   "cell_type": "code",
   "execution_count": 165,
   "id": "baf9fb70-8a5b-4119-9ecb-983a58d05c53",
   "metadata": {},
   "outputs": [
    {
     "data": {
      "text/html": [
       "<div>\n",
       "<style scoped>\n",
       "    .dataframe tbody tr th:only-of-type {\n",
       "        vertical-align: middle;\n",
       "    }\n",
       "\n",
       "    .dataframe tbody tr th {\n",
       "        vertical-align: top;\n",
       "    }\n",
       "\n",
       "    .dataframe thead th {\n",
       "        text-align: right;\n",
       "    }\n",
       "</style>\n",
       "<table border=\"1\" class=\"dataframe\">\n",
       "  <thead>\n",
       "    <tr style=\"text-align: right;\">\n",
       "      <th></th>\n",
       "      <th>Roll</th>\n",
       "      <th>Marks</th>\n",
       "    </tr>\n",
       "  </thead>\n",
       "  <tbody>\n",
       "    <tr>\n",
       "      <th>0</th>\n",
       "      <td>21AG30014</td>\n",
       "      <td>13.0</td>\n",
       "    </tr>\n",
       "    <tr>\n",
       "      <th>1</th>\n",
       "      <td>21CH10001</td>\n",
       "      <td>25.0</td>\n",
       "    </tr>\n",
       "    <tr>\n",
       "      <th>2</th>\n",
       "      <td>21CH10002</td>\n",
       "      <td>23.0</td>\n",
       "    </tr>\n",
       "    <tr>\n",
       "      <th>3</th>\n",
       "      <td>21CH10003</td>\n",
       "      <td>28.0</td>\n",
       "    </tr>\n",
       "    <tr>\n",
       "      <th>4</th>\n",
       "      <td>21CH10004</td>\n",
       "      <td>20.0</td>\n",
       "    </tr>\n",
       "  </tbody>\n",
       "</table>\n",
       "</div>"
      ],
      "text/plain": [
       "        Roll  Marks\n",
       "0  21AG30014   13.0\n",
       "1  21CH10001   25.0\n",
       "2  21CH10002   23.0\n",
       "3  21CH10003   28.0\n",
       "4  21CH10004   20.0"
      ]
     },
     "execution_count": 165,
     "metadata": {},
     "output_type": "execute_result"
    }
   ],
   "source": [
    "endsem_df.head()"
   ]
  },
  {
   "cell_type": "code",
   "execution_count": 167,
   "id": "5fa32a06-3536-4820-af6b-a2e7deac5a57",
   "metadata": {},
   "outputs": [
    {
     "data": {
      "text/plain": [
       "Roll      object\n",
       "Marks    float64\n",
       "dtype: object"
      ]
     },
     "execution_count": 167,
     "metadata": {},
     "output_type": "execute_result"
    }
   ],
   "source": [
    "endsem_df.dtypes"
   ]
  },
  {
   "cell_type": "code",
   "execution_count": 168,
   "id": "d257939c-bf32-436e-ba3f-d9529c4c3467",
   "metadata": {},
   "outputs": [
    {
     "data": {
      "text/plain": [
       "Roll      object\n",
       "Marks    float64\n",
       "dtype: object"
      ]
     },
     "execution_count": 168,
     "metadata": {},
     "output_type": "execute_result"
    }
   ],
   "source": [
    "midsem_df.dtypes"
   ]
  },
  {
   "cell_type": "code",
   "execution_count": 176,
   "id": "fd73ae74-b5de-4e90-9631-acc91fa61344",
   "metadata": {},
   "outputs": [],
   "source": [
    "final_df=pd.merge(midsem_df,endsem_df,on=\"Roll\")"
   ]
  },
  {
   "cell_type": "code",
   "execution_count": 177,
   "id": "35c4d188-abc1-457d-9d3b-f9d450f20027",
   "metadata": {},
   "outputs": [
    {
     "data": {
      "text/html": [
       "<div>\n",
       "<style scoped>\n",
       "    .dataframe tbody tr th:only-of-type {\n",
       "        vertical-align: middle;\n",
       "    }\n",
       "\n",
       "    .dataframe tbody tr th {\n",
       "        vertical-align: top;\n",
       "    }\n",
       "\n",
       "    .dataframe thead th {\n",
       "        text-align: right;\n",
       "    }\n",
       "</style>\n",
       "<table border=\"1\" class=\"dataframe\">\n",
       "  <thead>\n",
       "    <tr style=\"text-align: right;\">\n",
       "      <th></th>\n",
       "      <th>Roll</th>\n",
       "      <th>Marks_x</th>\n",
       "      <th>Marks_y</th>\n",
       "    </tr>\n",
       "  </thead>\n",
       "  <tbody>\n",
       "    <tr>\n",
       "      <th>0</th>\n",
       "      <td>21AG30014</td>\n",
       "      <td>10.5</td>\n",
       "      <td>13.0</td>\n",
       "    </tr>\n",
       "    <tr>\n",
       "      <th>1</th>\n",
       "      <td>21CH10001</td>\n",
       "      <td>24.5</td>\n",
       "      <td>25.0</td>\n",
       "    </tr>\n",
       "    <tr>\n",
       "      <th>2</th>\n",
       "      <td>21CH10002</td>\n",
       "      <td>18.5</td>\n",
       "      <td>23.0</td>\n",
       "    </tr>\n",
       "    <tr>\n",
       "      <th>3</th>\n",
       "      <td>21CH10003</td>\n",
       "      <td>21.5</td>\n",
       "      <td>28.0</td>\n",
       "    </tr>\n",
       "    <tr>\n",
       "      <th>4</th>\n",
       "      <td>21CH10004</td>\n",
       "      <td>10.0</td>\n",
       "      <td>20.0</td>\n",
       "    </tr>\n",
       "  </tbody>\n",
       "</table>\n",
       "</div>"
      ],
      "text/plain": [
       "        Roll  Marks_x  Marks_y\n",
       "0  21AG30014     10.5     13.0\n",
       "1  21CH10001     24.5     25.0\n",
       "2  21CH10002     18.5     23.0\n",
       "3  21CH10003     21.5     28.0\n",
       "4  21CH10004     10.0     20.0"
      ]
     },
     "execution_count": 177,
     "metadata": {},
     "output_type": "execute_result"
    }
   ],
   "source": [
    "final_df.head()"
   ]
  },
  {
   "cell_type": "code",
   "execution_count": 178,
   "id": "766fcb15-5423-45f7-a197-5d86dbdf451a",
   "metadata": {},
   "outputs": [],
   "source": [
    "final_df['Total Marks/80']= final_df['Marks_x']+final_df['Marks_y']"
   ]
  },
  {
   "cell_type": "code",
   "execution_count": 179,
   "id": "588556eb-cd00-4d01-906d-116115677527",
   "metadata": {},
   "outputs": [
    {
     "data": {
      "text/html": [
       "<div>\n",
       "<style scoped>\n",
       "    .dataframe tbody tr th:only-of-type {\n",
       "        vertical-align: middle;\n",
       "    }\n",
       "\n",
       "    .dataframe tbody tr th {\n",
       "        vertical-align: top;\n",
       "    }\n",
       "\n",
       "    .dataframe thead th {\n",
       "        text-align: right;\n",
       "    }\n",
       "</style>\n",
       "<table border=\"1\" class=\"dataframe\">\n",
       "  <thead>\n",
       "    <tr style=\"text-align: right;\">\n",
       "      <th></th>\n",
       "      <th>Roll</th>\n",
       "      <th>Marks_x</th>\n",
       "      <th>Marks_y</th>\n",
       "      <th>Total Marks/80</th>\n",
       "    </tr>\n",
       "  </thead>\n",
       "  <tbody>\n",
       "    <tr>\n",
       "      <th>0</th>\n",
       "      <td>21AG30014</td>\n",
       "      <td>10.5</td>\n",
       "      <td>13.0</td>\n",
       "      <td>23.5</td>\n",
       "    </tr>\n",
       "    <tr>\n",
       "      <th>1</th>\n",
       "      <td>21CH10001</td>\n",
       "      <td>24.5</td>\n",
       "      <td>25.0</td>\n",
       "      <td>49.5</td>\n",
       "    </tr>\n",
       "    <tr>\n",
       "      <th>2</th>\n",
       "      <td>21CH10002</td>\n",
       "      <td>18.5</td>\n",
       "      <td>23.0</td>\n",
       "      <td>41.5</td>\n",
       "    </tr>\n",
       "    <tr>\n",
       "      <th>3</th>\n",
       "      <td>21CH10003</td>\n",
       "      <td>21.5</td>\n",
       "      <td>28.0</td>\n",
       "      <td>49.5</td>\n",
       "    </tr>\n",
       "    <tr>\n",
       "      <th>4</th>\n",
       "      <td>21CH10004</td>\n",
       "      <td>10.0</td>\n",
       "      <td>20.0</td>\n",
       "      <td>30.0</td>\n",
       "    </tr>\n",
       "  </tbody>\n",
       "</table>\n",
       "</div>"
      ],
      "text/plain": [
       "        Roll  Marks_x  Marks_y  Total Marks/80\n",
       "0  21AG30014     10.5     13.0            23.5\n",
       "1  21CH10001     24.5     25.0            49.5\n",
       "2  21CH10002     18.5     23.0            41.5\n",
       "3  21CH10003     21.5     28.0            49.5\n",
       "4  21CH10004     10.0     20.0            30.0"
      ]
     },
     "execution_count": 179,
     "metadata": {},
     "output_type": "execute_result"
    }
   ],
   "source": [
    "final_df.head()"
   ]
  },
  {
   "cell_type": "code",
   "execution_count": 181,
   "id": "4ce4d9bb-932f-494e-ac02-fe1469dc595e",
   "metadata": {},
   "outputs": [
    {
     "data": {
      "text/plain": [
       "0      23.5\n",
       "1      49.5\n",
       "2      41.5\n",
       "3      49.5\n",
       "4      30.0\n",
       "       ... \n",
       "122    25.5\n",
       "123    39.0\n",
       "124    27.0\n",
       "125    27.5\n",
       "126    44.5\n",
       "Name: Total Marks/80, Length: 127, dtype: float64"
      ]
     },
     "execution_count": 181,
     "metadata": {},
     "output_type": "execute_result"
    }
   ],
   "source": [
    "final_df['Total Marks/80']"
   ]
  },
  {
   "cell_type": "code",
   "execution_count": 186,
   "id": "905e0278-2eef-4b95-af5b-8d9f34ff2299",
   "metadata": {},
   "outputs": [
    {
     "data": {
      "text/html": [
       "<div>\n",
       "<style scoped>\n",
       "    .dataframe tbody tr th:only-of-type {\n",
       "        vertical-align: middle;\n",
       "    }\n",
       "\n",
       "    .dataframe tbody tr th {\n",
       "        vertical-align: top;\n",
       "    }\n",
       "\n",
       "    .dataframe thead th {\n",
       "        text-align: right;\n",
       "    }\n",
       "</style>\n",
       "<table border=\"1\" class=\"dataframe\">\n",
       "  <thead>\n",
       "    <tr style=\"text-align: right;\">\n",
       "      <th></th>\n",
       "      <th>Roll</th>\n",
       "      <th>Marks_x</th>\n",
       "      <th>Marks_y</th>\n",
       "      <th>Total Marks/80</th>\n",
       "    </tr>\n",
       "  </thead>\n",
       "  <tbody>\n",
       "    <tr>\n",
       "      <th>84</th>\n",
       "      <td>21CH10057</td>\n",
       "      <td>22.5</td>\n",
       "      <td>27.5</td>\n",
       "      <td>50.0</td>\n",
       "    </tr>\n",
       "  </tbody>\n",
       "</table>\n",
       "</div>"
      ],
      "text/plain": [
       "         Roll  Marks_x  Marks_y  Total Marks/80\n",
       "84  21CH10057     22.5     27.5            50.0"
      ]
     },
     "execution_count": 186,
     "metadata": {},
     "output_type": "execute_result"
    }
   ],
   "source": [
    "final_df[final_df['Roll']=='21CH10057']"
   ]
  },
  {
   "cell_type": "code",
   "execution_count": 187,
   "id": "fba7aa70-4120-41a1-9859-bcc107683e6e",
   "metadata": {},
   "outputs": [],
   "source": [
    "import matplotlib.pyplot as plt\n",
    "import seaborn as sns"
   ]
  },
  {
   "cell_type": "code",
   "execution_count": 189,
   "id": "585436c0-45b2-408e-bf12-17052e17e4ab",
   "metadata": {},
   "outputs": [
    {
     "data": {
      "text/plain": [
       "<seaborn.axisgrid.FacetGrid at 0x7f8504bc8100>"
      ]
     },
     "execution_count": 189,
     "metadata": {},
     "output_type": "execute_result"
    },
    {
     "data": {
      "image/png": "[encoded data removed]",
      "text/plain": [
       "<Figure size 500x500 with 1 Axes>"
      ]
     },
     "metadata": {},
     "output_type": "display_data"
    }
   ],
   "source": [
    "sns.displot(final_df['Total Marks/80'])"
   ]
  },
  {
   "cell_type": "code",
   "execution_count": 195,
   "id": "490861fc-e17b-4398-b49d-0b83f596ace1",
   "metadata": {},
   "outputs": [
    {
     "data": {
      "text/html": [
       "<div>\n",
       "<style scoped>\n",
       "    .dataframe tbody tr th:only-of-type {\n",
       "        vertical-align: middle;\n",
       "    }\n",
       "\n",
       "    .dataframe tbody tr th {\n",
       "        vertical-align: top;\n",
       "    }\n",
       "\n",
       "    .dataframe thead th {\n",
       "        text-align: right;\n",
       "    }\n",
       "</style>\n",
       "<table border=\"1\" class=\"dataframe\">\n",
       "  <thead>\n",
       "    <tr style=\"text-align: right;\">\n",
       "      <th></th>\n",
       "      <th>Roll</th>\n",
       "      <th>Marks_x</th>\n",
       "      <th>Marks_y</th>\n",
       "      <th>Total Marks/80</th>\n",
       "    </tr>\n",
       "  </thead>\n",
       "  <tbody>\n",
       "    <tr>\n",
       "      <th>26</th>\n",
       "      <td>21CH10034</td>\n",
       "      <td>29.5</td>\n",
       "      <td>41.0</td>\n",
       "      <td>70.5</td>\n",
       "    </tr>\n",
       "    <tr>\n",
       "      <th>63</th>\n",
       "      <td>21CH30027</td>\n",
       "      <td>27.5</td>\n",
       "      <td>34.5</td>\n",
       "      <td>62.0</td>\n",
       "    </tr>\n",
       "    <tr>\n",
       "      <th>76</th>\n",
       "      <td>21CH30041</td>\n",
       "      <td>28.0</td>\n",
       "      <td>36.5</td>\n",
       "      <td>64.5</td>\n",
       "    </tr>\n",
       "  </tbody>\n",
       "</table>\n",
       "</div>"
      ],
      "text/plain": [
       "         Roll  Marks_x  Marks_y  Total Marks/80\n",
       "26  21CH10034     29.5     41.0            70.5\n",
       "63  21CH30027     27.5     34.5            62.0\n",
       "76  21CH30041     28.0     36.5            64.5"
      ]
     },
     "execution_count": 195,
     "metadata": {},
     "output_type": "execute_result"
    }
   ],
   "source": [
    "max_marks=final_df['Total Marks/80'].max()\n",
    "final_df[final_df['Total Marks/80']>=60]"
   ]
  },
  {
   "cell_type": "code",
   "execution_count": null,
   "id": "f76eb24e-c272-4c1c-a325-3fe3ffb2ead0",
   "metadata": {},
   "outputs": [],
   "source": []
  }
 ],
 "metadata": {
  "kernelspec": {
   "display_name": "Python 3 (ipykernel)",
   "language": "python",
   "name": "python3"
  },
  "language_info": {
   "codemirror_mode": {
    "name": "ipython",
    "version": 3
   },
   "file_extension": ".py",
   "mimetype": "text/x-python",
   "name": "python",
   "nbconvert_exporter": "python",
   "pygments_lexer": "ipython3",
   "version": "3.10.8"
  }
 },
 "nbformat": 4,
 "nbformat_minor": 5
}
